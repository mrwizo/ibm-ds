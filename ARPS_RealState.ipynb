{
 "cells": [
  {
   "cell_type": "markdown",
   "metadata": {},
   "source": [
    "# ARPS Headquartes: A Real State study"
   ]
  },
  {
   "cell_type": "markdown",
   "metadata": {},
   "source": [
    "## Table of Contents\n",
    "\n",
    "1. <a href=\"#Introduction\">Introduction. Business Problem</a>  \n",
    "2. <a href=\"#Data-description\">Data description</a>  \n"
   ]
  },
  {
   "cell_type": "markdown",
   "metadata": {},
   "source": [
    "## Introduction\n",
    "\n",
    "The ARPS (A Really Promising Startup) company, very committed to technological development, ecological culture, and the well-being of its workers, has grown very rapidly in the last year thanks to its good work and its innovative business model. For this reason, it anticipates going from having 13 workers to 50 in the next year, and has commissioned me to carry out a study to establish a new headquarters in the city of Madrid.\n",
    "\n",
    "This is a great investment for them, but as they have always done, they will know how to make a great profit by previously doing a good study.\n",
    "\n",
    "My job will be to show which are the best areas to buy an office in Madrid. The characteristics to be valued are:\n",
    "\n",
    "- Have a permissive price\n",
    "- That the trend of real estate revaluation of the area is high\n",
    "- That it is well connected, with metro and train stations nearby\n",
    "- Have nurseries nearby\n"
   ]
  },
  {
   "cell_type": "markdown",
   "metadata": {},
   "source": [
    "## Data description\n",
    "\n",
    "1. To build the model, I will use public data from the Madrid City Council regarding the price of second-hand real estate by neighborhoods and districts, which can be found at the following URL:  \n",
    "http://www-2.munimadrid.es/CSE6/control/seleccionDatos?numSerie=05040300200\n",
    "2. To search for metro and train stations, as well as nurseries in each neighborhood, I will use the Foursquare API:  \n",
    "https://developer.foursquare.com/docs/api\n",
    "3. The coordinates of each neighborhood will be obtained using the OpenStreetMaps.org Nominatim API:  \n",
    "https://nominatim.org/release-docs/develop/api/Overview/\n",
    "4. In order to segment and visualize each neighborhood area, I will use the cartodb GeoJSON from:  \n",
    "https://ayuntamiento-madrid.carto.com/u/ayuntamientomadrid/tables/cartodb_query/public?\n"
   ]
  },
  {
   "cell_type": "markdown",
   "metadata": {},
   "source": [
    "Once the data is collected and cleaned, I will compute the score of each neighborhood, considering the characteristics to be valued described in the Problem description section.\n",
    "This will be done using k-means clustering, grouping neighborhood candidates in a scaled range from worst candidates to best candidates clusters"
   ]
  },
  {
   "cell_type": "code",
   "execution_count": null,
   "metadata": {},
   "outputs": [],
   "source": []
  }
 ],
 "metadata": {
  "kernelspec": {
   "display_name": "Python 3",
   "language": "python",
   "name": "python3"
  },
  "language_info": {
   "codemirror_mode": {
    "name": "ipython",
    "version": 3
   },
   "file_extension": ".py",
   "mimetype": "text/x-python",
   "name": "python",
   "nbconvert_exporter": "python",
   "pygments_lexer": "ipython3",
   "version": "3.7.4"
  }
 },
 "nbformat": 4,
 "nbformat_minor": 4
}
